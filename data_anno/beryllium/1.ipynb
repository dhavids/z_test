{
 "cells": [
  {
   "cell_type": "code",
   "execution_count": 15,
   "metadata": {},
   "outputs": [
    {
     "name": "stdout",
     "output_type": "stream",
     "text": [
      "0.6 0.6\n",
      "Grid position (6, 4) maps to continuous position (0.5999999999999996, 0.6000000000000001)\n"
     ]
    }
   ],
   "source": [
    "import numpy as np\n",
    "\n",
    "def map_grid_to_continuous(grid_pos, grid_size, cont_min, cont_max):\n",
    "    \n",
    "    grid_width, grid_height = grid_size\n",
    "    cont_min_x, cont_min_y = cont_min\n",
    "    cont_max_x, cont_max_y = cont_max\n",
    "\n",
    "    cell_size_x = (cont_max_x - cont_min_x) / grid_width\n",
    "    cell_size_y = (cont_min_y - cont_max_y) / grid_height\n",
    "\n",
    "    print(cell_size_x, cell_size_y)\n",
    "\n",
    "    i, j = grid_pos\n",
    "    continuous_x = cont_min_x + (i) * cell_size_x\n",
    "    continuous_y = cont_min_y - (j) * cell_size_y\n",
    "\n",
    "    return (continuous_x, continuous_y)\n",
    "\n",
    "# Example usage:\n",
    "grid_size = (10, 10)\n",
    "cont_min = (-3, 3)\n",
    "cont_max = (3, -3)\n",
    "grid_pos = (6, 4)\n",
    "\n",
    "continuous_pos = map_grid_to_continuous(grid_pos, grid_size, cont_min, cont_max)\n",
    "print(f\"Grid position {grid_pos} maps to continuous position {continuous_pos}\")\n"
   ]
  },
  {
   "cell_type": "code",
   "execution_count": 16,
   "metadata": {},
   "outputs": [
    {
     "name": "stdout",
     "output_type": "stream",
     "text": [
      "(6.0, -6.0)\n"
     ]
    }
   ],
   "source": [
    "def map_grid_to_continuous(grid_x, grid_y):\n",
    "    # Calculate the continuous x and y coordinates\n",
    "    continuous_x = (grid_x - 5) / 5 * 6\n",
    "    continuous_y = (grid_y - 5) / 5 * -6\n",
    "\n",
    "    return continuous_x, continuous_y\n",
    "\n",
    "print(map_grid_to_continuous(10, 10))"
   ]
  },
  {
   "cell_type": "code",
   "execution_count": 29,
   "metadata": {},
   "outputs": [
    {
     "name": "stdout",
     "output_type": "stream",
     "text": [
      "{'sources': [{'title': 'For Whom the Bell Tolls', 'author': 'Ernest Hemingway', 'publisher': \"Scribner's\", 'published_date': '1940'}, {'title': 'Across the River and into the Trees', 'author': 'Ernest Hemingway', 'publisher': \"Scribner's\", 'published_date': '1950'}, {'title': 'The Old Man and the Sea', 'author': 'Ernest Hemingway', 'publisher': \"Scribner's\", 'published_date': '1952'}]}\n"
     ]
    }
   ],
   "source": [
    "import json\n",
    "\n",
    "with open(\"temp.json\", \"r\") as f:\n",
    "    temp = json.load(f)\n",
    "\n",
    "print(temp)"
   ]
  },
  {
   "cell_type": "code",
   "execution_count": 31,
   "metadata": {},
   "outputs": [
    {
     "name": "stdout",
     "output_type": "stream",
     "text": [
      "path/to/directory/base_name.jpg\n"
     ]
    }
   ],
   "source": [
    "from pathlib import Path\n",
    "\n",
    "def get_file_name(base_path: str, base_name: str, ext=\"\", return_base_name=False):\n",
    "    \"\"\"\n",
    "    Generate a unique filename by appending a numerical suffix \n",
    "    if the base filename already exists in the given directory.\n",
    "\n",
    "    Args:\n",
    "        base_path (str): The directory path where the file will be created.\n",
    "        base_name (str): The base name of the file.\n",
    "        ext (str, optional): The file extension (e.g., 'jpg'). Defaults to an empty string.\n",
    "        return_base_name (bool, optional): Whether to return just the base name of the file. Defaults to False.\n",
    "\n",
    "    Returns:\n",
    "        str: The full path of the generated unique filename.\n",
    "        str (optional): The base name of the file if return_base_name is True.\n",
    "    \"\"\"\n",
    "    \n",
    "    # Convert base_path to a Path object\n",
    "    temp = Path(base_path)\n",
    "    \n",
    "    # Create the directory if it doesn't exist\n",
    "    if not temp.exists():\n",
    "        temp.mkdir(parents=True, exist_ok=True)\n",
    "\n",
    "    counter = 1\n",
    "    file_ext = \".\" + ext if not ext.startswith(\".\") else ext  # add a . to ext if doesn't contain one\n",
    "    base_file = base_name + file_ext\n",
    "    f_name = temp / base_file\n",
    "\n",
    "    # Check if the file already exists, if yes, append a numerical suffix\n",
    "    while f_name.exists():\n",
    "        base_file = f\"{base_name}_{counter}{file_ext}\"\n",
    "        f_name = temp / base_file\n",
    "        counter += 1\n",
    "\n",
    "    if return_base_name:\n",
    "        return str(f_name), base_file\n",
    "    \n",
    "    return str(f_name)\n",
    "\n",
    "# Example Useage\n",
    "file_name = get_file_name(\"path/to/directory\", \"base_name\", \"jpg\")\n",
    "print(file_name)"
   ]
  },
  {
   "cell_type": "code",
   "execution_count": 32,
   "metadata": {},
   "outputs": [],
   "source": [
    "import csv\n",
    "import random\n",
    "\n",
    "rows = 100\n",
    "columns = 100\n",
    "\n",
    "\n",
    "def generate_row():\n",
    "    l = [i]\n",
    "    for j in range(columns):\n",
    "        l.append(random.random())\n",
    "    return l\n",
    "\n",
    "\n",
    "f = open('100x100.csv', 'wt')\n",
    "w = csv.writer(f, lineterminator='\\n')\n",
    "for i in range(rows):\n",
    "    a = []\n",
    "    row = generate_row()\n",
    "    a.append(row)\n",
    "    w.writerows(a)\n",
    "f.close()\n"
   ]
  },
  {
   "cell_type": "code",
   "execution_count": 33,
   "metadata": {},
   "outputs": [],
   "source": [
    "import csv\n",
    "import random\n",
    "\n",
    "# Set the dimensions of the CSV\n",
    "rows, cols = 100, 100\n",
    "\n",
    "# Open a new CSV file to write to\n",
    "with open('random_numbers.csv', 'w', newline='') as csvfile:\n",
    "    writer = csv.writer(csvfile)\n",
    "    \n",
    "    # Generate and write the random numbers row by row\n",
    "    for _ in range(rows):\n",
    "        row = [random.randint(0, 100) for _ in range(cols)]\n",
    "        writer.writerow(row)"
   ]
  }
 ],
 "metadata": {
  "kernelspec": {
   "display_name": "base",
   "language": "python",
   "name": "python3"
  },
  "language_info": {
   "codemirror_mode": {
    "name": "ipython",
    "version": 3
   },
   "file_extension": ".py",
   "mimetype": "text/x-python",
   "name": "python",
   "nbconvert_exporter": "python",
   "pygments_lexer": "ipython3",
   "version": "3.11.3"
  }
 },
 "nbformat": 4,
 "nbformat_minor": 2
}
