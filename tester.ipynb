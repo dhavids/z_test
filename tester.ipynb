{
 "cells": [
  {
   "cell_type": "code",
   "execution_count": 63,
   "metadata": {},
   "outputs": [
    {
     "name": "stdout",
     "output_type": "stream",
     "text": [
      "0 [[ 0.          0.2       ]\n",
      " [ 1.6        -1.5       ]\n",
      " [-0.3904283   1.77339547]\n",
      " [ 1.92162515 -0.75825469]\n",
      " [-1.31456014 -1.20631387]] (5, 2) (6, 2)\n",
      "[0.0, 2.12602916254693, 4.455333881989093, 1.2219368549113354, 4.238302594399335, 2.8207930496599247] \n",
      " [2.12602916254693, 4.455333881989093, 1.2219368549113354, 4.238302594399335, 2.8207930496599247]\n",
      "[0.0, 2.12602916254693, 4.455333881989093, 1.2219368549113354, 4.238302594399335, 2.8207930496599247] \n",
      " [2.12602916 4.45533388 1.22193685 4.23830259 2.82079305]\n"
     ]
    }
   ],
   "source": [
    "import ast\n",
    "import numpy as np\n",
    "import math\n",
    "from io import StringIO   # StringIO behaves like a file object\n",
    "\n",
    "# Example string representation of a list of arrays\n",
    "s = [[-1.6, 1.6], [0.0, 0.2], [1.6, -1.5], [-0.3904283036630054, 1.7733954694075118], [1.9216251513618485, -0.7582546883209562], [-1.314560142568316, -1.2063138664089443]]\n",
    "\n",
    "r = [math.dist([-1.6, 1.6], i) for i in s]\n",
    "\n",
    "# Convert the string to a list using ast.literal_eval()\n",
    "#list_of_arrays = ast.literal_eval(string_list_of_arrays)\n",
    "test = np.array(s)\n",
    "\n",
    "# Convert each element of the list to a numpy array\n",
    "#list_of_arrays = [np.array(arr) for arr in list_of_arrays]\n",
    "a = np.array([-1.6, 1.6])\n",
    "\n",
    "f = np.argwhere(test==a)[0][0]\n",
    "p = np.delete(s, np.argwhere(test==a)[0][0], axis=0)\n",
    "print(f, p, p.shape, test.shape)\n",
    "temp = [np.sqrt(np.sum(np.square(a - other_pos))) \n",
    "                    for other_pos in p]\n",
    "print(r, \"\\n\", temp)\n",
    "# Shorter and returns the same values\n",
    "temp2 = np.linalg.norm(a-p, axis=1)\n",
    "print(r, \"\\n\", temp2)\n"
   ]
  },
  {
   "cell_type": "code",
   "execution_count": 48,
   "metadata": {},
   "outputs": [
    {
     "name": "stdout",
     "output_type": "stream",
     "text": [
      "float64\n",
      "[2.46527602 0.82435475 1.96814372 0.         0.01845774]\n",
      "[0.2885773  0.54813901 0.33691091 1.         0.98187677]\n"
     ]
    }
   ],
   "source": [
    "# Tester for cohesion computation equation\n",
    "t = np.array([2.61527602, 0.97435475, 2.11814372, 0.02357945, 0.16845774])\n",
    "print(t.dtype)\n",
    "size = 0.15\n",
    "scaler = 1\n",
    "r = np.where((t-size)<0, 0, t-size)\n",
    "p = 1 / (1 + r * scaler)\n",
    "print(r)\n",
    "print(p)"
   ]
  },
  {
   "cell_type": "code",
   "execution_count": 6,
   "metadata": {},
   "outputs": [
    {
     "data": {
      "text/plain": [
       "[array([3, 4]), array([6, 8]), array([ 9, 12])]"
      ]
     },
     "execution_count": 6,
     "metadata": {},
     "output_type": "execute_result"
    }
   ],
   "source": [
    "# Tester for array sorting based on norm\n",
    "import numpy as np\n",
    "\n",
    "def l2_norm(vector):\n",
    "    return np.linalg.norm(vector)\n",
    "\n",
    "def sort_by_l2_norm(vals, length, pad_value=[0,0]):\n",
    "\n",
    "    norms = [np.linalg.norm(val) for val in vals]\n",
    "    pairs = list(zip(vals, norms))\n",
    "    sorted_pairs = sorted(pairs, key=lambda x: x[1])\n",
    "    temp = [pair[0] for pair in sorted_pairs]\n",
    "\n",
    "    temp = temp[:length] + [np.array(pad_value)] * max(0, length - len(temp))\n",
    "    \n",
    "    return temp\n",
    "\n",
    "# Example usage:\n",
    "vectors = [\n",
    "    np.array([1, 2, 3]),\n",
    "    np.array([4, 5, 6]),\n",
    "    np.array([1, 1, 1])\n",
    "]\n",
    "\n",
    "\n",
    "temp = np.array([[9,12], [3, 4], [6,8],[12,16]])\n",
    "\n",
    "sorted_vectors = sort_by_l2_norm(temp, 3)\n",
    "sorted_vectors\n"
   ]
  },
  {
   "cell_type": "code",
   "execution_count": 1,
   "metadata": {},
   "outputs": [
    {
     "data": {
      "image/png": "[encoded data removed]",
      "text/plain": [
       "<Figure size 640x480 with 1 Axes>"
      ]
     },
     "metadata": {},
     "output_type": "display_data"
    }
   ],
   "source": [
    "import matplotlib.pyplot as plt\n",
    "\n",
    "\n",
    "fig, ax = plt.subplots()\n",
    "\n",
    "ax.set_xlim(0, 1920-1)\n",
    "ax.set_ylim(0, 1080-1)\n",
    "\n",
    "x,y = [0], [0]\n",
    "# create empty plot\n",
    "points, = ax.plot([], [], 'o')\n",
    "\n",
    "# cache the background\n",
    "background = fig.canvas.copy_from_bbox(ax.bbox)\n",
    "\n",
    "def on_move(event):\n",
    "    # append event's data to lists\n",
    "    x.append(event.xdata)\n",
    "    y.append(event.ydata)\n",
    "    # update plot's data  \n",
    "    points.set_data(x,y)\n",
    "    # restore background\n",
    "    fig.canvas.restore_region(background)\n",
    "    # redraw just the points\n",
    "    ax.draw_artist(points)\n",
    "    # fill in the axes rectangle\n",
    "    fig.canvas.blit(ax.bbox)\n",
    "\n",
    "\n",
    "fig.canvas.mpl_connect(\"motion_notify_event\", on_move)\n",
    "plt.show()"
   ]
  }
 ],
 "metadata": {
  "kernelspec": {
   "display_name": "base",
   "language": "python",
   "name": "python3"
  },
  "language_info": {
   "codemirror_mode": {
    "name": "ipython",
    "version": 3
   },
   "file_extension": ".py",
   "mimetype": "text/x-python",
   "name": "python",
   "nbconvert_exporter": "python",
   "pygments_lexer": "ipython3",
   "version": "3.11.3"
  }
 },
 "nbformat": 4,
 "nbformat_minor": 2
}
