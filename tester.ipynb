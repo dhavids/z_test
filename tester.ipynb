{
 "cells": [
  {
   "cell_type": "code",
   "execution_count": 63,
   "metadata": {},
   "outputs": [
    {
     "name": "stdout",
     "output_type": "stream",
     "text": [
      "0 [[ 0.          0.2       ]\n",
      " [ 1.6        -1.5       ]\n",
      " [-0.3904283   1.77339547]\n",
      " [ 1.92162515 -0.75825469]\n",
      " [-1.31456014 -1.20631387]] (5, 2) (6, 2)\n",
      "[0.0, 2.12602916254693, 4.455333881989093, 1.2219368549113354, 4.238302594399335, 2.8207930496599247] \n",
      " [2.12602916254693, 4.455333881989093, 1.2219368549113354, 4.238302594399335, 2.8207930496599247]\n",
      "[0.0, 2.12602916254693, 4.455333881989093, 1.2219368549113354, 4.238302594399335, 2.8207930496599247] \n",
      " [2.12602916 4.45533388 1.22193685 4.23830259 2.82079305]\n"
     ]
    }
   ],
   "source": [
    "import ast\n",
    "import numpy as np\n",
    "import math\n",
    "from io import StringIO   # StringIO behaves like a file object\n",
    "\n",
    "# Example string representation of a list of arrays\n",
    "s = [[-1.6, 1.6], [0.0, 0.2], [1.6, -1.5], [-0.3904283036630054, 1.7733954694075118], [1.9216251513618485, -0.7582546883209562], [-1.314560142568316, -1.2063138664089443]]\n",
    "\n",
    "r = [math.dist([-1.6, 1.6], i) for i in s]\n",
    "\n",
    "# Convert the string to a list using ast.literal_eval()\n",
    "#list_of_arrays = ast.literal_eval(string_list_of_arrays)\n",
    "test = np.array(s)\n",
    "\n",
    "# Convert each element of the list to a numpy array\n",
    "#list_of_arrays = [np.array(arr) for arr in list_of_arrays]\n",
    "a = np.array([-1.6, 1.6])\n",
    "\n",
    "f = np.argwhere(test==a)[0][0]\n",
    "p = np.delete(s, np.argwhere(test==a)[0][0], axis=0)\n",
    "print(f, p, p.shape, test.shape)\n",
    "temp = [np.sqrt(np.sum(np.square(a - other_pos))) \n",
    "                    for other_pos in p]\n",
    "print(r, \"\\n\", temp)\n",
    "# Shorter and returns the same values\n",
    "temp2 = np.linalg.norm(a-p, axis=1)\n",
    "print(r, \"\\n\", temp2)\n"
   ]
  },
  {
   "cell_type": "code",
   "execution_count": 48,
   "metadata": {},
   "outputs": [
    {
     "name": "stdout",
     "output_type": "stream",
     "text": [
      "float64\n",
      "[2.46527602 0.82435475 1.96814372 0.         0.01845774]\n",
      "[0.2885773  0.54813901 0.33691091 1.         0.98187677]\n"
     ]
    }
   ],
   "source": [
    "# Tester for cohesion computation equation\n",
    "t = np.array([2.61527602, 0.97435475, 2.11814372, 0.02357945, 0.16845774])\n",
    "print(t.dtype)\n",
    "size = 0.15\n",
    "scaler = 1\n",
    "r = np.where((t-size)<0, 0, t-size)\n",
    "p = 1 / (1 + r * scaler)\n",
    "print(r)\n",
    "print(p)"
   ]
  },
  {
   "cell_type": "code",
   "execution_count": 6,
   "metadata": {},
   "outputs": [
    {
     "data": {
      "text/plain": [
       "[array([3, 4]), array([6, 8]), array([ 9, 12])]"
      ]
     },
     "execution_count": 6,
     "metadata": {},
     "output_type": "execute_result"
    }
   ],
   "source": [
    "# Tester for array sorting based on norm\n",
    "import numpy as np\n",
    "\n",
    "def l2_norm(vector):\n",
    "    return np.linalg.norm(vector)\n",
    "\n",
    "def sort_by_l2_norm(vals, length, pad_value=[0,0]):\n",
    "\n",
    "    norms = [np.linalg.norm(val) for val in vals]\n",
    "    pairs = list(zip(vals, norms))\n",
    "    sorted_pairs = sorted(pairs, key=lambda x: x[1])\n",
    "    temp = [pair[0] for pair in sorted_pairs]\n",
    "\n",
    "    temp = temp[:length] + [np.array(pad_value)] * max(0, length - len(temp))\n",
    "    \n",
    "    return temp\n",
    "\n",
    "# Example usage:\n",
    "vectors = [\n",
    "    np.array([1, 2, 3]),\n",
    "    np.array([4, 5, 6]),\n",
    "    np.array([1, 1, 1])\n",
    "]\n",
    "\n",
    "\n",
    "temp = np.array([[9,12], [3, 4], [6,8],[12,16]])\n",
    "\n",
    "sorted_vectors = sort_by_l2_norm(temp, 3)\n",
    "sorted_vectors\n"
   ]
  },
  {
   "cell_type": "code",
   "execution_count": 3,
   "metadata": {},
   "outputs": [
    {
     "data": {
      "image/png": "[encoded data removed]",
      "text/plain": [
       "<Figure size 640x480 with 1 Axes>"
      ]
     },
     "metadata": {},
     "output_type": "display_data"
    }
   ],
   "source": [
    "import numpy as np\n",
    "import matplotlib.pyplot as plt\n",
    "import matplotlib.patches as patches\n",
    "\n",
    "def rotate_and_find_new_bottom_left(p, width, height, angle):\n",
    "    # Define the original rectangle corners\n",
    "    original_corners = np.array([\n",
    "        p,\n",
    "        [p[0] + width, 0],\n",
    "        [p[0] + width, p[1] + height],\n",
    "        [0, p[1] + height]\n",
    "    ])\n",
    "    \n",
    "    # Calculate the centroid of the original rectangle\n",
    "    centroid = np.array([width / 2, height / 2])\n",
    "    \n",
    "    # Translate corners to origin (centroid to origin)\n",
    "    translated_corners = original_corners - centroid\n",
    "    \n",
    "    # Define the rotation matrix\n",
    "    theta = np.radians(angle)\n",
    "    rotation_matrix = np.array([\n",
    "        [np.cos(theta), -np.sin(theta)],\n",
    "        [np.sin(theta), np.cos(theta)]\n",
    "    ])\n",
    "    \n",
    "    # Rotate the corners around the origin\n",
    "    rotated_corners = np.dot(translated_corners, rotation_matrix)\n",
    "    \n",
    "    # Calculate the new position of the bottom-left corner\n",
    "    # The new bottom-left corner is the position where the bottom-left corner would be if the centroid is at the origin\n",
    "    new_bottom_left = -rotated_corners.mean(axis=0)\n",
    "    \n",
    "    # Apply the translation to get final corners\n",
    "    final_corners = rotated_corners + new_bottom_left\n",
    "    \n",
    "    return new_bottom_left, final_corners\n",
    "\n",
    "# Plot the original and transformed rectangle\n",
    "def plot_rectangles(original_corners, final_corners, new_bottom_left):\n",
    "    fig, ax = plt.subplots()\n",
    "    \n",
    "    # Original rectangle (before rotation)\n",
    "    original_rect = patches.Polygon(original_corners, closed=True, fill=None, edgecolor='r', linewidth=2)\n",
    "    ax.add_patch(original_rect)\n",
    "    \n",
    "    # Rotated and translated rectangle\n",
    "    transformed_rect = patches.Polygon(final_corners, closed=True, fill=None, edgecolor='b', linewidth=2)\n",
    "    ax.add_patch(transformed_rect)\n",
    "    \n",
    "    # Original and new bottom-left corners\n",
    "    ax.plot(0, 0, 'ro')  # Original bottom-left corner\n",
    "    ax.plot(new_bottom_left[0], new_bottom_left[1], 'bo')  # New bottom-left corner\n",
    "    \n",
    "    # Set limits and show plot\n",
    "    ax.set_xlim(-10, 10)\n",
    "    ax.set_ylim(-10, 10)\n",
    "    ax.set_aspect('equal', 'box')\n",
    "    plt.grid(True)\n",
    "    plt.show()\n",
    "\n",
    "# Rectangle dimensions\n",
    "width = 4\n",
    "height = 2\n",
    "angle = 45  # Rotation angle in degrees\n",
    "\n",
    "# Get original and transformed rectangle corners\n",
    "original_corners = np.array([\n",
    "    [0, 0],\n",
    "    [width, 0],\n",
    "    [width, height],\n",
    "    [0, height]\n",
    "])\n",
    "new_bottom_left, final_corners = rotate_and_find_new_bottom_left([0,0], width, height, angle)\n",
    "\n",
    "# Plot the rectangles\n",
    "plot_rectangles(original_corners, final_corners, new_bottom_left)\n"
   ]
  },
  {
   "cell_type": "code",
   "execution_count": 6,
   "metadata": {},
   "outputs": [
    {
     "name": "stdout",
     "output_type": "stream",
     "text": [
      "8 8\n",
      "14 14\n",
      "8 8\n",
      "8 8\n",
      "14 14\n",
      "52 52\n"
     ]
    }
   ],
   "source": [
    "import numpy as np\n",
    "\n",
    "allx = [0.5, 0.4, 0.55, 0.5, 0.6]\n",
    "ally = [0.8, 0.8, 0.7, 0.6, 0.65]\n",
    "step = 0.01\n",
    "dec = len(str(step).split('.')[1])\n",
    "\n",
    "px, py = [], []\n",
    "for id, (x,y) in enumerate(zip(allx, ally)):\n",
    "    if id == 0:\n",
    "        allx.append(x)\n",
    "        ally.append(y)\n",
    "        continue\n",
    "    old_x, old_y = allx[id-1], ally[id-1]\n",
    "    num_x = max(2, int(abs(x-old_x)/step))\n",
    "    num_y = max(2, int(abs(y-old_y)/step))\n",
    "    \n",
    "    valx = np.round(np.linspace(old_x, x, num=num_x), dec)[1:]\n",
    "    valy = np.round(np.linspace(old_y, y, num=num_y), dec)[1:]\n",
    "\n",
    "    if num_x != num_y:\n",
    "\n",
    "        diff = abs(num_x - num_y)\n",
    "        pad = diff//2\n",
    "        rem = diff%2\n",
    "        if num_x > num_y:\n",
    "            valy = np.pad(valy, (pad, pad+rem), 'edge')\n",
    "        else:\n",
    "            valx = np.pad(valx, (pad, pad+rem), 'edge')\n",
    "        print(len(valx), len(smooth_data(valx.tolist())))\n",
    "    px.extend(valx.tolist())\n",
    "    py.extend(valy.tolist())\n",
    "\n",
    "print(len(px), len(py))"
   ]
  },
  {
   "cell_type": "code",
   "execution_count": 4,
   "metadata": {},
   "outputs": [],
   "source": [
    "def smooth_data(data, window_size=2):\n",
    "    \"\"\"\n",
    "    Smooths the data using a moving average.\n",
    "\n",
    "    Parameters:\n",
    "    - data: List of numeric values representing the input data.\n",
    "    - window_size: Integer representing the size of the window for smoothing.\n",
    "\n",
    "    Returns:\n",
    "    - smoothed_data: List of smoothed data points.\n",
    "    \"\"\"\n",
    "    smoothed_data = []\n",
    "\n",
    "    # Apply smoothing to the data points\n",
    "    for i in range(len(data)):\n",
    "        # Calculate the smoothed value using the window size\n",
    "        start_index = max(0, i - window_size)\n",
    "        end_index = min(len(data), i + window_size + 1)\n",
    "        smoothed_value = sum(data[start_index:end_index]) / (end_index - start_index)\n",
    "        smoothed_data.append(smoothed_value)\n",
    "\n",
    "    return smoothed_data"
   ]
  },
  {
   "cell_type": "code",
   "execution_count": 3,
   "metadata": {},
   "outputs": [
    {
     "name": "stdout",
     "output_type": "stream",
     "text": [
      "Original Centroid: (15.0, 17.5)\n",
      "Mapped Centroid: (-1.9147727272727273, 1.9005681818181817)\n"
     ]
    }
   ],
   "source": [
    "def map_centroid(x, y, w, h, rw, rh, x_min, y_min, x_max, y_max):\n",
    "    # Calculate the centroid of the original rectangle\n",
    "    centroid_x = x + w / 2\n",
    "    centroid_y = y + h / 2\n",
    "\n",
    "    # Normalize the centroid coordinates (assuming the original rectangle ranges from (0, 0) to (width, height))\n",
    "    u = centroid_x / rw\n",
    "    v = 1 - centroid_y / rh\n",
    "\n",
    "    # Apply scaling and translation to map to the new coordinate system\n",
    "    mapped_centroid_x = x_min + u * (x_max - x_min)\n",
    "    mapped_centroid_y = y_min + v * (y_max - y_min)\n",
    "\n",
    "    return mapped_centroid_x, mapped_centroid_y\n",
    "\n",
    "# Example parameters for the original rectangle\n",
    "x, y = 5, 10  # Bottom-left corner\n",
    "w, h = 20, 15  # Width and height\n",
    "\n",
    "# New coordinate system\n",
    "x_min, y_min = -2, -2\n",
    "x_max, y_max = 2, 2\n",
    "\n",
    "# Map the centroid\n",
    "mapped_centroid = map_centroid(x, y, w, h, 704, 704, x_min, y_min, x_max, y_max)\n",
    "\n",
    "# Print the results\n",
    "print(\"Original Centroid:\", (x + w / 2, y + h / 2))\n",
    "print(\"Mapped Centroid:\", mapped_centroid)\n"
   ]
  },
  {
   "cell_type": "code",
   "execution_count": 4,
   "metadata": {},
   "outputs": [
    {
     "name": "stdout",
     "output_type": "stream",
     "text": [
      "{'agents_0': 1, 'landmarks_0': 0, 'landmarks_1': 2, 'agents_1': 3}\n"
     ]
    }
   ],
   "source": [
    "names = [\"agents\", \"landmarks\", \"landmarks\", \"agents\"]\n",
    "track_ids = [1, 0, 2, 3]\n",
    "\n",
    "def name_id_map(names, track_ids):\n",
    "    # Initialize a counter dictionary for each unique name\n",
    "    counter = {name: 0 for name in set(names)}\n",
    "\n",
    "    # Create the name_id_map with formatted keys and corresponding track_ids\n",
    "    name_id_map = {}\n",
    "    for name, track_id in zip(names, track_ids):\n",
    "        formatted_name = f\"{name}_{counter[name]}\"\n",
    "        name_id_map[formatted_name] = track_id\n",
    "        counter[name] += 1\n",
    "\n",
    "    return name_id_map\n"
   ]
  },
  {
   "cell_type": "code",
   "execution_count": 7,
   "metadata": {},
   "outputs": [
    {
     "name": "stdout",
     "output_type": "stream",
     "text": [
      "/home/ayomide/OneDrive/MARL_git/files/datasets/mpe/world\n"
     ]
    }
   ],
   "source": [
    "import sys\n",
    "sys.path.append(\"/home/ayomide/OneDrive/MARL_git\")\n",
    "from util import util\n",
    "\n",
    "attrs = dir(util)\n",
    "env = \"mpe\"\n",
    "temp = [attr for attr in attrs if f\"{env}_world\" in attr]\n",
    "print(getattr(util, temp[0]))"
   ]
  },
  {
   "cell_type": "code",
   "execution_count": 18,
   "metadata": {},
   "outputs": [
    {
     "name": "stdout",
     "output_type": "stream",
     "text": [
      "State Dict Keys:\n",
      "odict_keys(['base.feature_norm.weight', 'base.feature_norm.bias', 'base.mlp.fc1.0.weight', 'base.mlp.fc1.0.bias', 'base.mlp.fc1.2.weight', 'base.mlp.fc1.2.bias', 'base.mlp.fc_h.0.weight', 'base.mlp.fc_h.0.bias', 'base.mlp.fc_h.2.weight', 'base.mlp.fc_h.2.bias', 'base.mlp.fc2.0.0.weight', 'base.mlp.fc2.0.0.bias', 'base.mlp.fc2.0.2.weight', 'base.mlp.fc2.0.2.bias', 'act.action_out.linear.weight', 'act.action_out.linear.bias'])\n",
      "State Dict Values:\n",
      "base.feature_norm.weight \t torch.Size([12])\n",
      "base.feature_norm.bias \t torch.Size([12])\n",
      "base.mlp.fc1.0.weight \t torch.Size([64, 12])\n",
      "base.mlp.fc1.0.bias \t torch.Size([64])\n",
      "base.mlp.fc1.2.weight \t torch.Size([64])\n",
      "base.mlp.fc1.2.bias \t torch.Size([64])\n",
      "base.mlp.fc_h.0.weight \t torch.Size([64, 64])\n",
      "base.mlp.fc_h.0.bias \t torch.Size([64])\n",
      "base.mlp.fc_h.2.weight \t torch.Size([64])\n",
      "base.mlp.fc_h.2.bias \t torch.Size([64])\n",
      "base.mlp.fc2.0.0.weight \t torch.Size([64, 64])\n",
      "base.mlp.fc2.0.0.bias \t torch.Size([64])\n",
      "base.mlp.fc2.0.2.weight \t torch.Size([64])\n",
      "base.mlp.fc2.0.2.bias \t torch.Size([64])\n",
      "act.action_out.linear.weight \t torch.Size([5, 64])\n",
      "act.action_out.linear.bias \t torch.Size([5])\n"
     ]
    }
   ],
   "source": [
    "import torch\n",
    "\n",
    "# Load the state dictionary from the .pt file\n",
    "state_dict = torch.load('/home/ayomide/OneDrive/MARL_git/files/marl/mappo/10x10/obst/experts/obst/models/actor.pt')\n",
    "#state_dict = torch.load('/home/ayomide/OneDrive/MARL_git/files/marl/mappo/10x10/agg/experts/run1/models/actor.pt', map_location=torch.device('cpu'))\n",
    "#state_dict = torch.load('/home/ayomide/OneDrive/MARL_git/files/marl/mappo/10x10/obst/policies/gail_f_10000/e_0.0_1_400/models/actor.pt')\n",
    "\n",
    "# Print the state dictionary keys\n",
    "print(\"State Dict Keys:\")\n",
    "print(state_dict.keys())\n",
    "\n",
    "# Print the state dictionary values (parameter tensors and their sizes)\n",
    "print(\"State Dict Values:\")\n",
    "for param_tensor in state_dict:\n",
    "    print(param_tensor, \"\\t\", state_dict[param_tensor].size())\n"
   ]
  }
 ],
 "metadata": {
  "kernelspec": {
   "display_name": "base",
   "language": "python",
   "name": "python3"
  },
  "language_info": {
   "codemirror_mode": {
    "name": "ipython",
    "version": 3
   },
   "file_extension": ".py",
   "mimetype": "text/x-python",
   "name": "python",
   "nbconvert_exporter": "python",
   "pygments_lexer": "ipython3",
   "version": "3.11.3"
  }
 },
 "nbformat": 4,
 "nbformat_minor": 2
}
